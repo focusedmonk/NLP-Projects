{
 "cells": [
  {
   "cell_type": "markdown",
   "metadata": {},
   "source": [
    "### Import Libraries"
   ]
  },
  {
   "cell_type": "code",
   "execution_count": 1,
   "metadata": {},
   "outputs": [],
   "source": [
    "import random\n",
    "from pathlib import Path\n",
    "import spacy\n",
    "from spacy.training import Example\n",
    "import os, json, warnings\n",
    "from tqdm import tqdm\n",
    "\n",
    "warnings.filterwarnings('ignore')"
   ]
  },
  {
   "cell_type": "code",
   "execution_count": 2,
   "metadata": {},
   "outputs": [],
   "source": [
    "nlp = spacy.blank('en')\n",
    "ner = nlp.add_pipe('ner', last=True)\n",
    "\n",
    " # Disable all piplines except NER\n",
    "# other_pipes = [pipe for pipe in nlp.pipe_names if pipe != 'ner']\n",
    "# nlp.disable_pipes(*other_pipes)"
   ]
  },
  {
   "cell_type": "markdown",
   "metadata": {},
   "source": [
    "### Import training dataset"
   ]
  },
  {
   "cell_type": "code",
   "execution_count": 3,
   "metadata": {},
   "outputs": [],
   "source": [
    "f = open('Train_2022-02-16_01_07_24.json')\n",
    "data = json.load(f)"
   ]
  },
  {
   "cell_type": "code",
   "execution_count": 4,
   "metadata": {
    "scrolled": true
   },
   "outputs": [],
   "source": [
    "TRAIN_DATA = []\n",
    "for i, d in enumerate(data):\n",
    "    text = data[i]['text']\n",
    "    entities = []\n",
    "    mapper = {}\n",
    "    for ent in data[i]['ents']:\n",
    "        key = f\"{ent['start']}${ent['end']}${ent['label']}\"\n",
    "        if mapper.get(key, False) != True:\n",
    "            mapper[key] = True\n",
    "            entities.append((ent['start'], ent['end'], ent['label']))\n",
    "    TRAIN_DATA.append((text, {\n",
    "        'entities': entities\n",
    "    }))"
   ]
  },
  {
   "cell_type": "markdown",
   "metadata": {},
   "source": [
    "### Model Training"
   ]
  },
  {
   "cell_type": "code",
   "execution_count": 5,
   "metadata": {},
   "outputs": [],
   "source": [
    "# Defining parameters for training\n",
    "output_dir = Path(os.getcwd(), 'saved_model')\n",
    "n_iter = 100"
   ]
  },
  {
   "cell_type": "code",
   "execution_count": 10,
   "metadata": {
    "scrolled": true
   },
   "outputs": [
    {
     "name": "stdout",
     "output_type": "stream",
     "text": [
      "{'ner': 1004.70881741622}\n",
      "{'ner': 534.55289473207}\n",
      "{'ner': 443.0953762944556}\n",
      "{'ner': 395.99133800218505}\n",
      "{'ner': 330.59544258465917}\n",
      "{'ner': 329.94082053046293}\n",
      "{'ner': 523.957489516199}\n",
      "{'ner': 247.3192374596662}\n",
      "{'ner': 244.9045927527701}\n",
      "{'ner': 205.255995108754}\n",
      "{'ner': 201.78153158291022}\n",
      "{'ner': 174.82024450608515}\n",
      "{'ner': 157.0076633480524}\n",
      "{'ner': 150.78791096416722}\n",
      "{'ner': 139.2540910372134}\n",
      "{'ner': 142.5756446238851}\n",
      "{'ner': 117.9162394821336}\n",
      "{'ner': 108.13154696229878}\n",
      "{'ner': 105.14351050460984}\n",
      "{'ner': 100.6451323930089}\n",
      "{'ner': 86.82780310918668}\n",
      "{'ner': 77.48998784476476}\n",
      "{'ner': 83.57492302858128}\n",
      "{'ner': 79.65592163566761}\n",
      "{'ner': 53.06792261424719}\n",
      "{'ner': 178.10974815218736}\n",
      "{'ner': 75.98250230605782}\n",
      "{'ner': 66.66531527595286}\n",
      "{'ner': 63.05211813965246}\n",
      "{'ner': 50.38186690904505}\n",
      "{'ner': 62.514723458766234}\n",
      "{'ner': 52.48319019483163}\n",
      "{'ner': 43.31216586686776}\n",
      "{'ner': 60.0803628568895}\n",
      "{'ner': 33.09192544513113}\n",
      "{'ner': 59.31353413201182}\n",
      "{'ner': 39.85371977562494}\n",
      "{'ner': 40.41442994615646}\n",
      "{'ner': 37.3191132289004}\n",
      "{'ner': 41.22365734816881}\n",
      "{'ner': 34.50860535256692}\n",
      "{'ner': 37.16357253413762}\n",
      "{'ner': 44.00586548639236}\n",
      "{'ner': 34.18626693699121}\n",
      "{'ner': 32.26447497200881}\n",
      "{'ner': 35.617862325443944}\n",
      "{'ner': 35.757153767383194}\n",
      "{'ner': 27.304600169157638}\n",
      "{'ner': 36.86790312374171}\n",
      "{'ner': 38.46513484074557}\n",
      "{'ner': 21.582419143402003}\n",
      "{'ner': 46.320947405458405}\n",
      "{'ner': 28.49258478171701}\n",
      "{'ner': 31.407882161788528}\n",
      "{'ner': 41.39820176145802}\n",
      "{'ner': 15.55167306194195}\n",
      "{'ner': 27.071205472990147}\n",
      "{'ner': 25.734032034149823}\n",
      "{'ner': 13.126171377107678}\n",
      "{'ner': 33.23572177431744}\n",
      "{'ner': 38.28854316984036}\n",
      "{'ner': 16.18873869199885}\n",
      "{'ner': 18.173993905450494}\n",
      "{'ner': 15.072708682160767}\n",
      "{'ner': 15.348627887368258}\n",
      "{'ner': 22.75484925634081}\n",
      "{'ner': 23.034890045381697}\n",
      "{'ner': 17.323684037479033}\n",
      "{'ner': 12.288050976228922}\n",
      "{'ner': 30.14210853702337}\n",
      "{'ner': 27.814543220815292}\n",
      "{'ner': 23.424360790933846}\n",
      "{'ner': 8.408347993869604}\n",
      "{'ner': 15.608847724880263}\n",
      "{'ner': 13.03467702041672}\n",
      "{'ner': 13.291769464467048}\n",
      "{'ner': 17.790210478633718}\n",
      "{'ner': 14.924063301240896}\n",
      "{'ner': 21.926403899446935}\n",
      "{'ner': 21.807380834357716}\n",
      "{'ner': 14.124657498244646}\n",
      "{'ner': 22.18156405833202}\n",
      "{'ner': 18.151450595736197}\n",
      "{'ner': 17.82749633552642}\n",
      "{'ner': 8.917218815493275}\n",
      "{'ner': 14.850748859506638}\n",
      "{'ner': 25.366340284344133}\n",
      "{'ner': 12.452019123351569}\n",
      "{'ner': 14.444484487723772}\n",
      "{'ner': 9.116124125452686}\n",
      "{'ner': 16.224610060837577}\n",
      "{'ner': 5.7955828697499445}\n",
      "{'ner': 11.985044209452578}\n",
      "{'ner': 10.18158111128108}\n",
      "{'ner': 16.7886153643789}\n",
      "{'ner': 18.95480042533683}\n",
      "{'ner': 18.793477489712497}\n",
      "{'ner': 13.20354054292649}\n",
      "{'ner': 14.907322130344639}\n",
      "{'ner': 15.302153929142735}\n"
     ]
    }
   ],
   "source": [
    "for _, annotations in TRAIN_DATA:\n",
    "    for ent in annotations.get('entities'):\n",
    "        ner.add_label(ent[2])\n",
    "\n",
    "optimizer = nlp.begin_training()\n",
    "for itn in range(n_iter):\n",
    "    random.shuffle(TRAIN_DATA)\n",
    "    losses = {}\n",
    "    for text, annotations in TRAIN_DATA: # tqdm(TRAIN_DATA) can be used to see the model training progress\n",
    "        doc = nlp.make_doc(text)\n",
    "        example = Example.from_dict(doc, annotations)\n",
    "        nlp.update(\n",
    "            [example],\n",
    "            drop=0.5,  \n",
    "            sgd=optimizer,\n",
    "            losses=losses)\n",
    "    print(losses)"
   ]
  },
  {
   "cell_type": "markdown",
   "metadata": {},
   "source": [
    "### Model Validation"
   ]
  },
  {
   "cell_type": "code",
   "execution_count": 7,
   "metadata": {},
   "outputs": [
    {
     "name": "stdout",
     "output_type": "stream",
     "text": [
      "Blacksmith Solution  Excellent Python (NumPy, pandas, scikit-learn, etc.) or R programming skills, familiar with open source libraries and tools for data science Track record of speedily and rigorously developing and deploying machine learning models to resolve industry problems Strong SQL skills Superior communication and data visualization skills Experience working in an agile development environment****\n",
      "{'entities': [(0, 19, 'ORG'), (31, 37, 'SKILL'), (39, 44, 'SKILL'), (46, 52, 'SKILL'), (54, 66, 'SKILL'), (77, 90, 'SKILL'), (149, 161, 'SKILL'), (227, 243, 'SKILL'), (287, 290, 'SKILL'), (325, 343, 'SKILL')]}\n",
      "Entities [('Blacksmith Solution', 'ORG'), ('Python', 'SKILL'), ('NumPy', 'SKILL'), ('pandas', 'SKILL'), ('scikit-learn', 'SKILL'), ('R programming', 'SKILL'), ('data science', 'SKILL'), ('machine learning', 'SKILL'), ('SQL', 'SKILL'), ('data visualization', 'SKILL')]\n",
      "Tokens [('Blacksmith', 'ORG', 3), ('Solution', 'ORG', 1), (' ', '', 2), ('Excellent', '', 2), ('Python', 'SKILL', 3), ('(', '', 2), ('NumPy', 'SKILL', 3), (',', '', 2), ('pandas', 'SKILL', 3), (',', '', 2), ('scikit', 'SKILL', 3), ('-', 'SKILL', 1), ('learn', 'SKILL', 1), (',', '', 2), ('etc', '', 2), ('.', '', 2), (')', '', 2), ('or', '', 2), ('R', 'SKILL', 3), ('programming', 'SKILL', 1), ('skills', '', 2), (',', '', 2), ('familiar', '', 2), ('with', '', 2), ('open', '', 2), ('source', '', 2), ('libraries', '', 2), ('and', '', 2), ('tools', '', 2), ('for', '', 2), ('data', 'SKILL', 3), ('science', 'SKILL', 1), ('Track', '', 2), ('record', '', 2), ('of', '', 2), ('speedily', '', 2), ('and', '', 2), ('rigorously', '', 2), ('developing', '', 2), ('and', '', 2), ('deploying', '', 2), ('machine', 'SKILL', 3), ('learning', 'SKILL', 1), ('models', '', 2), ('to', '', 2), ('resolve', '', 2), ('industry', '', 2), ('problems', '', 2), ('Strong', '', 2), ('SQL', 'SKILL', 3), ('skills', '', 2), ('Superior', '', 2), ('communication', '', 2), ('and', '', 2), ('data', 'SKILL', 3), ('visualization', 'SKILL', 1), ('skills', '', 2), ('Experience', '', 2), ('working', '', 2), ('in', '', 2), ('an', '', 2), ('agile', '', 2), ('development', '', 2), ('environment', '', 2)]\n",
      "Bosch  Experience with Python data analysis libraries (pandas, sklearn, numpy, scipy, and matplotlib), and Spark MLlib. Proficiency with Spark, Hadoop, Kafka, Hive, and SQL. Excellent understanding of machine learning techniques and algorithms, such as k-NN, Naive Bayes, SVM, Decision Forests, etc. Solid software engineering skills, with proficiency in Python and experience in providing them as services. GIT, Python web framework Web2Py/Django/ Flask. Experience with data visualization tools, such as D3.js, GGplot, etc. is a plus. Selecting features, building and optimizing classifiers using machine learning techniques. Data mining using state-of-the-art methods. Extending companyâ€™s data with third party sources of information when needed. Enhancing data collection procedures to include information that is relevant for building analytic systems. Processing, cleansing, and verifying the integrity of data used for analysis. Doing ad-hoc analysis and presenting results in a clear manner. Creating automated anomaly detection systems and constant tracking of its performance. Model Deployments in Container Platform.****\n",
      "{'entities': [(0, 5, 'ORG'), (23, 29, 'SKILL'), (55, 61, 'SKILL'), (63, 70, 'SKILL'), (72, 77, 'SKILL'), (79, 84, 'SKILL'), (90, 100, 'SKILL'), (107, 118, 'SKILL'), (137, 142, 'SKILL'), (144, 150, 'SKILL'), (152, 157, 'SKILL'), (159, 163, 'SKILL'), (169, 172, 'SKILL'), (201, 217, 'SKILL'), (253, 257, 'SKILL'), (259, 270, 'SKILL'), (272, 275, 'SKILL'), (277, 293, 'SKILL'), (355, 361, 'SKILL'), (408, 411, 'SKILL'), (413, 419, 'SKILL'), (434, 440, 'SKILL'), (441, 447, 'SKILL'), (449, 454, 'SKILL'), (506, 511, 'SKILL'), (513, 519, 'SKILL'), (537, 555, 'SKILL'), (570, 592, 'SKILL'), (599, 615, 'SKILL'), (628, 639, 'SKILL'), (942, 957, 'SKILL'), (1019, 1036, 'SKILL'), (1087, 1104, 'SKILL'), (1108, 1117, 'SKILL')]}\n",
      "Entities [('Bosch', 'ORG'), ('Python', 'SKILL'), ('pandas', 'SKILL'), ('sklearn', 'SKILL'), ('numpy', 'SKILL'), ('scipy', 'SKILL'), ('matplotlib', 'SKILL'), ('Spark MLlib', 'SKILL'), ('Spark', 'SKILL'), ('Hadoop', 'SKILL'), ('Kafka', 'SKILL'), ('Hive', 'SKILL'), ('SQL', 'SKILL'), ('machine learning', 'SKILL'), ('k-NN', 'SKILL'), ('Naive Bayes', 'SKILL'), ('SVM', 'SKILL'), ('Decision Forests', 'SKILL'), ('Python', 'SKILL'), ('GIT', 'SKILL'), ('Python', 'SKILL'), ('Web2Py', 'SKILL'), ('Django/', 'SKILL'), ('Flask', 'SKILL'), ('D3.js', 'SKILL'), ('GGplot', 'SKILL'), ('Selecting features', 'SKILL'), ('optimizing classifiers', 'SKILL'), ('machine learning', 'SKILL'), ('Data mining', 'SKILL'), ('detection systems', 'SKILL'), ('Model Deployments', 'SKILL')]\n",
      "Tokens [('Bosch', 'ORG', 3), (' ', '', 2), ('Experience', '', 2), ('with', '', 2), ('Python', 'SKILL', 3), ('data', '', 2), ('analysis', '', 2), ('libraries', '', 2), ('(', '', 2), ('pandas', 'SKILL', 3), (',', '', 2), ('sklearn', 'SKILL', 3), (',', '', 2), ('numpy', 'SKILL', 3), (',', '', 2), ('scipy', 'SKILL', 3), (',', '', 2), ('and', '', 2), ('matplotlib', 'SKILL', 3), (')', '', 2), (',', '', 2), ('and', '', 2), ('Spark', 'SKILL', 3), ('MLlib', 'SKILL', 1), ('.', '', 2), ('Proficiency', '', 2), ('with', '', 2), ('Spark', 'SKILL', 3), (',', '', 2), ('Hadoop', 'SKILL', 3), (',', '', 2), ('Kafka', 'SKILL', 3), (',', '', 2), ('Hive', 'SKILL', 3), (',', '', 2), ('and', '', 2), ('SQL', 'SKILL', 3), ('.', '', 2), ('Excellent', '', 2), ('understanding', '', 2), ('of', '', 2), ('machine', 'SKILL', 3), ('learning', 'SKILL', 1), ('techniques', '', 2), ('and', '', 2), ('algorithms', '', 2), (',', '', 2), ('such', '', 2), ('as', '', 2), ('k', 'SKILL', 3), ('-', 'SKILL', 1), ('NN', 'SKILL', 1), (',', '', 2), ('Naive', 'SKILL', 3), ('Bayes', 'SKILL', 1), (',', '', 2), ('SVM', 'SKILL', 3), (',', '', 2), ('Decision', 'SKILL', 3), ('Forests', 'SKILL', 1), (',', '', 2), ('etc', '', 2), ('.', '', 2), ('Solid', '', 2), ('software', '', 2), ('engineering', '', 2), ('skills', '', 2), (',', '', 2), ('with', '', 2), ('proficiency', '', 2), ('in', '', 2), ('Python', 'SKILL', 3), ('and', '', 2), ('experience', '', 2), ('in', '', 2), ('providing', '', 2), ('them', '', 2), ('as', '', 2), ('services', '', 2), ('.', '', 2), ('GIT', 'SKILL', 3), (',', '', 2), ('Python', 'SKILL', 3), ('web', '', 2), ('framework', '', 2), ('Web2Py', 'SKILL', 3), ('/', '', 2), ('Django/', 'SKILL', 3), ('Flask', 'SKILL', 3), ('.', '', 2), ('Experience', '', 2), ('with', '', 2), ('data', '', 2), ('visualization', '', 2), ('tools', '', 2), (',', '', 2), ('such', '', 2), ('as', '', 2), ('D3.js', 'SKILL', 3), (',', '', 2), ('GGplot', 'SKILL', 3), (',', '', 2), ('etc', '', 2), ('.', '', 2), ('is', '', 2), ('a', '', 2), ('plus', '', 2), ('.', '', 2), ('Selecting', 'SKILL', 3), ('features', 'SKILL', 1), (',', '', 2), ('building', '', 2), ('and', '', 2), ('optimizing', 'SKILL', 3), ('classifiers', 'SKILL', 1), ('using', '', 2), ('machine', 'SKILL', 3), ('learning', 'SKILL', 1), ('techniques', '', 2), ('.', '', 2), ('Data', 'SKILL', 3), ('mining', 'SKILL', 1), ('using', '', 2), ('state', '', 2), ('-', '', 2), ('of', '', 2), ('-', '', 2), ('the', '', 2), ('-', '', 2), ('art', '', 2), ('methods', '', 2), ('.', '', 2), ('Extending', '', 2), ('companyâ€', '', 2), ('™', '', 2), ('s', '', 2), ('data', '', 2), ('with', '', 2), ('third', '', 2), ('party', '', 2), ('sources', '', 2), ('of', '', 2), ('information', '', 2), ('when', '', 2), ('needed', '', 2), ('.', '', 2), ('Enhancing', '', 2), ('data', '', 2), ('collection', '', 2), ('procedures', '', 2), ('to', '', 2), ('include', '', 2), ('information', '', 2), ('that', '', 2), ('is', '', 2), ('relevant', '', 2), ('for', '', 2), ('building', '', 2), ('analytic', '', 2), ('systems', '', 2), ('.', '', 2), ('Processing', '', 2), (',', '', 2), ('cleansing', '', 2), (',', '', 2), ('and', '', 2), ('verifying', '', 2), ('the', '', 2), ('integrity', '', 2), ('of', '', 2), ('data', '', 2), ('used', '', 2), ('for', '', 2), ('analysis', '', 2), ('.', '', 2), ('Doing', '', 2), ('ad', '', 2), ('-', '', 2), ('hoc', '', 2), ('analysis', '', 2), ('and', '', 2), ('presenting', '', 2), ('results', '', 2), ('in', '', 2), ('a', '', 2), ('clear', '', 2), ('manner', '', 2), ('.', '', 2), ('Creating', '', 2), ('automated', '', 2), ('anomaly', '', 2), ('detection', 'SKILL', 3), ('systems', 'SKILL', 1), ('and', '', 2), ('constant', '', 2), ('tracking', '', 2), ('of', '', 2), ('its', '', 2), ('performance', '', 2), ('.', '', 2), ('Model', 'SKILL', 3), ('Deployments', 'SKILL', 1), ('in', '', 2), ('Container', '', 2), ('Platform', '', 2), ('.', '', 2)]\n",
      "IBM  Technology expertise of solutioning in Hadoop, Hive, Spark / PySpark, SQL, Oozie along Data Modelling in Hive Experience in programming Languages- Java / Python / Scala and ability to demonstrate micro / macro designing and familiar with Unix Commands and basic work experience in Unix Shell Scripting Developing web apps for Demand Forecasting, News Sentiment analysis using python frameworks such as spacy, flair, dash, flask. Creating power BI dashboards on historic and prediction data for client use case -should be involved in designing the process and implementation of key entities extraction from millions of unstructured files using python NLP techniques and Apache spark. Gathering requirements, extracting right data, pre-processing, labelling and ML model creation for massive real-world dataset Working knowledge in one NoSQL database like MongoDB/Cassandra/HBase/Couchbase Hands-on experience of various Big data architectures like Lambda / kappa with usage of automation / scheduling tool like Oozie or Cronacle or any other technology Proven ability in solutioning covering data ingestion, data cleansing, ETL, data mart creation and exposing data for consumers****\n",
      "{'entities': [(0, 3, 'ORG'), (44, 50, 'SKILL'), (52, 56, 'SKILL'), (58, 63, 'SKILL'), (66, 73, 'SKILL'), (75, 78, 'SKILL'), (80, 85, 'SKILL'), (92, 106, 'SKILL'), (110, 114, 'SKILL'), (152, 156, 'SKILL'), (159, 165, 'SKILL'), (168, 173, 'SKILL'), (243, 247, 'SKILL'), (286, 306, 'SKILL'), (331, 349, 'SKILL'), (351, 374, 'SKILL'), (381, 387, 'SKILL'), (407, 412, 'SKILL'), (414, 419, 'SKILL'), (421, 425, 'SKILL'), (427, 432, 'SKILL'), (443, 451, 'SKILL'), (648, 654, 'SKILL'), (655, 658, 'SKILL'), (674, 686, 'SKILL'), (765, 767, 'SKILL'), (768, 782, 'SKILL'), (839, 853, 'SKILL'), (859, 866, 'SKILL'), (867, 876, 'SKILL'), (877, 882, 'SKILL'), (883, 892, 'SKILL'), (924, 932, 'SKILL'), (952, 958, 'SKILL'), (961, 966, 'SKILL'), (1015, 1020, 'SKILL'), (1024, 1032, 'SKILL'), (1096, 1110, 'SKILL'), (1112, 1126, 'SKILL'), (1128, 1131, 'SKILL'), (1133, 1151, 'SKILL')]}\n",
      "Entities [('IBM', 'ORG'), ('Hadoop', 'SKILL'), ('Hive', 'SKILL'), ('Spark', 'SKILL'), ('PySpark', 'SKILL'), ('SQL', 'SKILL'), ('Oozie', 'SKILL'), ('Data Modelling', 'SKILL'), ('Hive', 'SKILL'), ('Java', 'SKILL'), ('Python', 'SKILL'), ('Scala', 'SKILL'), ('Unix', 'SKILL'), ('Unix Shell Scripting', 'SKILL'), ('Demand Forecasting', 'SKILL'), ('News Sentiment analysis', 'SKILL'), ('python', 'SKILL'), ('spacy', 'SKILL'), ('flair', 'SKILL'), ('dash', 'SKILL'), ('flask', 'SKILL'), ('power BI', 'SKILL'), ('python', 'SKILL'), ('NLP', 'SKILL'), ('Apache spark', 'SKILL'), ('ML', 'SKILL'), ('model creation', 'SKILL'), ('NoSQL database', 'SKILL'), ('MongoDB', 'SKILL'), ('Cassandra', 'SKILL'), ('HBase', 'SKILL'), ('Couchbase', 'SKILL'), ('Big data', 'SKILL'), ('Lambda', 'SKILL'), ('kappa', 'SKILL'), ('Oozie', 'SKILL'), ('Cronacle', 'SKILL'), ('data ingestion', 'SKILL'), ('data cleansing', 'SKILL'), ('ETL', 'SKILL'), ('data mart creation', 'SKILL')]\n",
      "Tokens [('IBM', 'ORG', 3), (' ', '', 2), ('Technology', '', 2), ('expertise', '', 2), ('of', '', 2), ('solutioning', '', 2), ('in', '', 2), ('Hadoop', 'SKILL', 3), (',', '', 2), ('Hive', 'SKILL', 3), (',', '', 2), ('Spark', 'SKILL', 3), ('/', '', 2), ('PySpark', 'SKILL', 3), (',', '', 2), ('SQL', 'SKILL', 3), (',', '', 2), ('Oozie', 'SKILL', 3), ('along', '', 2), ('Data', 'SKILL', 3), ('Modelling', 'SKILL', 1), ('in', '', 2), ('Hive', 'SKILL', 3), ('Experience', '', 2), ('in', '', 2), ('programming', '', 2), ('Languages-', '', 2), ('Java', 'SKILL', 3), ('/', '', 2), ('Python', 'SKILL', 3), ('/', '', 2), ('Scala', 'SKILL', 3), ('and', '', 2), ('ability', '', 2), ('to', '', 2), ('demonstrate', '', 2), ('micro', '', 2), ('/', '', 2), ('macro', '', 2), ('designing', '', 2), ('and', '', 2), ('familiar', '', 2), ('with', '', 2), ('Unix', 'SKILL', 3), ('Commands', '', 2), ('and', '', 2), ('basic', '', 2), ('work', '', 2), ('experience', '', 2), ('in', '', 2), ('Unix', 'SKILL', 3), ('Shell', 'SKILL', 1), ('Scripting', 'SKILL', 1), ('Developing', '', 2), ('web', '', 2), ('apps', '', 2), ('for', '', 2), ('Demand', 'SKILL', 3), ('Forecasting', 'SKILL', 1), (',', '', 2), ('News', 'SKILL', 3), ('Sentiment', 'SKILL', 1), ('analysis', 'SKILL', 1), ('using', '', 2), ('python', 'SKILL', 3), ('frameworks', '', 2), ('such', '', 2), ('as', '', 2), ('spacy', 'SKILL', 3), (',', '', 2), ('flair', 'SKILL', 3), (',', '', 2), ('dash', 'SKILL', 3), (',', '', 2), ('flask', 'SKILL', 3), ('.', '', 2), ('Creating', '', 2), ('power', 'SKILL', 3), ('BI', 'SKILL', 1), ('dashboards', '', 2), ('on', '', 2), ('historic', '', 2), ('and', '', 2), ('prediction', '', 2), ('data', '', 2), ('for', '', 2), ('client', '', 2), ('use', '', 2), ('case', '', 2), ('-should', '', 2), ('be', '', 2), ('involved', '', 2), ('in', '', 2), ('designing', '', 2), ('the', '', 2), ('process', '', 2), ('and', '', 2), ('implementation', '', 2), ('of', '', 2), ('key', '', 2), ('entities', '', 2), ('extraction', '', 2), ('from', '', 2), ('millions', '', 2), ('of', '', 2), ('unstructured', '', 2), ('files', '', 2), ('using', '', 2), ('python', 'SKILL', 3), ('NLP', 'SKILL', 3), ('techniques', '', 2), ('and', '', 2), ('Apache', 'SKILL', 3), ('spark', 'SKILL', 1), ('.', '', 2), ('Gathering', '', 2), ('requirements', '', 2), (',', '', 2), ('extracting', '', 2), ('right', '', 2), ('data', '', 2), (',', '', 2), ('pre', '', 2), ('-', '', 2), ('processing', '', 2), (',', '', 2), ('labelling', '', 2), ('and', '', 2), ('ML', 'SKILL', 3), ('model', 'SKILL', 3), ('creation', 'SKILL', 1), ('for', '', 2), ('massive', '', 2), ('real', '', 2), ('-', '', 2), ('world', '', 2), ('dataset', '', 2), ('Working', '', 2), ('knowledge', '', 2), ('in', '', 2), ('one', '', 2), ('NoSQL', 'SKILL', 3), ('database', 'SKILL', 1), ('like', '', 2), ('MongoDB', 'SKILL', 3), ('/', '', 2), ('Cassandra', 'SKILL', 3), ('/', '', 2), ('HBase', 'SKILL', 3), ('/', '', 2), ('Couchbase', 'SKILL', 3), ('Hands', '', 2), ('-', '', 2), ('on', '', 2), ('experience', '', 2), ('of', '', 2), ('various', '', 2), ('Big', 'SKILL', 3), ('data', 'SKILL', 1), ('architectures', '', 2), ('like', '', 2), ('Lambda', 'SKILL', 3), ('/', '', 2), ('kappa', 'SKILL', 3), ('with', '', 2), ('usage', '', 2), ('of', '', 2), ('automation', '', 2), ('/', '', 2), ('scheduling', '', 2), ('tool', '', 2), ('like', '', 2), ('Oozie', 'SKILL', 3), ('or', '', 2), ('Cronacle', 'SKILL', 3), ('or', '', 2), ('any', '', 2), ('other', '', 2), ('technology', '', 2), ('Proven', '', 2), ('ability', '', 2), ('in', '', 2), ('solutioning', '', 2), ('covering', '', 2), ('data', 'SKILL', 3), ('ingestion', 'SKILL', 1), (',', '', 2), ('data', 'SKILL', 3), ('cleansing', 'SKILL', 1), (',', '', 2), ('ETL', 'SKILL', 3), (',', '', 2), ('data', 'SKILL', 3), ('mart', 'SKILL', 1), ('creation', 'SKILL', 1), ('and', '', 2), ('exposing', '', 2), ('data', '', 2), ('for', '', 2), ('consumers', '', 2)]\n",
      "PAR Technology  A solid understanding of statistical modeling/machine learning/data mining Proficiency in Python and AWS machine learning packages Experience with Python web framework, e.g. Flask, Django or FastAPI Experience with databases (Elasticsearch, SQL, NoSQL, Hive) Experience in a cloud environment for software development and deployment (AWS preferred) Excellent communication skills and ability to articulate a complex concept with thoughtful, actionable recommendations****\n",
      "{'entities': [(0, 14, 'ORG'), (41, 61, 'SKILL'), (62, 78, 'SKILL'), (79, 90, 'SKILL'), (106, 112, 'SKILL'), (117, 120, 'SKILL'), (121, 137, 'SKILL'), (163, 169, 'SKILL'), (190, 195, 'SKILL'), (197, 203, 'SKILL'), (207, 214, 'SKILL'), (231, 240, 'SKILL'), (242, 255, 'SKILL'), (257, 260, 'SKILL'), (262, 267, 'SKILL'), (269, 273, 'SKILL'), (291, 308, 'SKILL'), (350, 353, 'SKILL')]}\n",
      "Entities [('PAR Technology', 'ORG'), ('statistical modeling', 'SKILL'), ('machine learning', 'SKILL'), ('data mining', 'SKILL'), ('Python', 'SKILL'), ('AWS', 'SKILL'), ('machine learning', 'SKILL'), ('Python', 'SKILL'), ('Flask', 'SKILL'), ('Django', 'SKILL'), ('FastAPI', 'SKILL'), ('databases', 'SKILL'), ('Elasticsearch', 'SKILL'), ('SQL', 'SKILL'), ('NoSQL', 'SKILL'), ('Hive', 'SKILL'), ('cloud environment', 'SKILL'), ('AWS', 'SKILL')]\n",
      "Tokens [('PAR', 'ORG', 3), ('Technology', 'ORG', 1), (' ', '', 2), ('A', '', 2), ('solid', '', 2), ('understanding', '', 2), ('of', '', 2), ('statistical', 'SKILL', 3), ('modeling', 'SKILL', 1), ('/', '', 2), ('machine', 'SKILL', 3), ('learning', 'SKILL', 1), ('/', '', 2), ('data', 'SKILL', 3), ('mining', 'SKILL', 1), ('Proficiency', '', 2), ('in', '', 2), ('Python', 'SKILL', 3), ('and', '', 2), ('AWS', 'SKILL', 3), ('machine', 'SKILL', 3), ('learning', 'SKILL', 1), ('packages', '', 2), ('Experience', '', 2), ('with', '', 2), ('Python', 'SKILL', 3), ('web', '', 2), ('framework', '', 2), (',', '', 2), ('e.g.', '', 2), ('Flask', 'SKILL', 3), (',', '', 2), ('Django', 'SKILL', 3), ('or', '', 2), ('FastAPI', 'SKILL', 3), ('Experience', '', 2), ('with', '', 2), ('databases', 'SKILL', 3), ('(', '', 2), ('Elasticsearch', 'SKILL', 3), (',', '', 2), ('SQL', 'SKILL', 3), (',', '', 2), ('NoSQL', 'SKILL', 3), (',', '', 2), ('Hive', 'SKILL', 3), (')', '', 2), ('Experience', '', 2), ('in', '', 2), ('a', '', 2), ('cloud', 'SKILL', 3), ('environment', 'SKILL', 1), ('for', '', 2), ('software', '', 2), ('development', '', 2), ('and', '', 2), ('deployment', '', 2), ('(', '', 2), ('AWS', 'SKILL', 3), ('preferred', '', 2), (')', '', 2), ('Excellent', '', 2), ('communication', '', 2), ('skills', '', 2), ('and', '', 2), ('ability', '', 2), ('to', '', 2), ('articulate', '', 2), ('a', '', 2), ('complex', '', 2), ('concept', '', 2), ('with', '', 2), ('thoughtful', '', 2), (',', '', 2), ('actionable', '', 2), ('recommendations', '', 2)]\n",
      "Worked extensively on designing & training ML models including deep neural networks. Have a sound understanding of data modeling pipelines, optimization techniques, and prevalent ML architectures. Demonstrable experience with PyTorch or Tensorflow and tools used for data science like NumPy, Pandas, and W&B. Strong software development experience in Python, preferably open-source. Familiarity with Python/C++ interfaces like Cython is a plus. Explore new ML research for improving the performance of algorithms. Good understanding of Linux and cloud CLI (GCP, AWS, or Azure). Knowledge about JIT compilation and computational graph serialization is a plus. Exposure to popular MLOps frameworks like Kubeflow, Airflow, MLFlow, and DataRobot is a plus.****\n",
      "{'entities': [(43, 45, 'SKILL'), (63, 83, 'SKILL'), (115, 138, 'SKILL'), (140, 163, 'SKILL'), (179, 181, 'SKILL'), (226, 233, 'SKILL'), (237, 247, 'SKILL'), (285, 290, 'SKILL'), (292, 298, 'SKILL'), (304, 307, 'SKILL'), (351, 357, 'SKILL'), (400, 406, 'SKILL'), (407, 410, 'SKILL'), (427, 433, 'SKILL'), (457, 459, 'SKILL'), (536, 541, 'SKILL'), (546, 555, 'SKILL'), (557, 560, 'SKILL'), (562, 565, 'SKILL'), (570, 575, 'SKILL'), (594, 609, 'SKILL'), (614, 633, 'SKILL'), (679, 684, 'SKILL'), (701, 709, 'SKILL'), (711, 718, 'SKILL'), (720, 726, 'SKILL'), (732, 741, 'SKILL')]}\n",
      "Entities [('ML', 'SKILL'), ('deep neural networks', 'SKILL'), ('data modeling pipelines', 'SKILL'), ('optimization techniques', 'SKILL'), ('ML', 'SKILL'), ('PyTorch', 'SKILL'), ('Tensorflow', 'SKILL'), ('NumPy', 'SKILL'), ('Pandas', 'SKILL'), ('Python', 'SKILL'), ('Python', 'SKILL'), ('C++', 'SKILL'), ('Cython', 'SKILL'), ('ML', 'SKILL'), ('Linux', 'SKILL'), ('cloud CLI', 'SKILL'), ('GCP', 'SKILL'), ('AWS', 'SKILL'), ('Azure', 'SKILL'), ('JIT compilation', 'SKILL'), ('computational graph', 'SKILL'), ('MLOps', 'SKILL'), ('Kubeflow', 'SKILL'), ('Airflow', 'SKILL'), ('MLFlow', 'SKILL'), ('DataRobot', 'SKILL')]\n",
      "Tokens [('Worked', '', 2), ('extensively', '', 2), ('on', '', 2), ('designing', '', 2), ('&', '', 2), ('training', '', 2), ('ML', 'SKILL', 3), ('models', '', 2), ('including', '', 2), ('deep', 'SKILL', 3), ('neural', 'SKILL', 1), ('networks', 'SKILL', 1), ('.', '', 2), ('Have', '', 2), ('a', '', 2), ('sound', '', 2), ('understanding', '', 2), ('of', '', 2), ('data', 'SKILL', 3), ('modeling', 'SKILL', 1), ('pipelines', 'SKILL', 1), (',', '', 2), ('optimization', 'SKILL', 3), ('techniques', 'SKILL', 1), (',', '', 2), ('and', '', 2), ('prevalent', '', 2), ('ML', 'SKILL', 3), ('architectures', '', 2), ('.', '', 2), ('Demonstrable', '', 2), ('experience', '', 2), ('with', '', 2), ('PyTorch', 'SKILL', 3), ('or', '', 2), ('Tensorflow', 'SKILL', 3), ('and', '', 2), ('tools', '', 2), ('used', '', 2), ('for', '', 2), ('data', '', 2), ('science', '', 2), ('like', '', 2), ('NumPy', 'SKILL', 3), (',', '', 2), ('Pandas', 'SKILL', 3), (',', '', 2), ('and', '', 2), ('W&B.', '', 2), ('Strong', '', 2), ('software', '', 2), ('development', '', 2), ('experience', '', 2), ('in', '', 2), ('Python', 'SKILL', 3), (',', '', 2), ('preferably', '', 2), ('open', '', 2), ('-', '', 2), ('source', '', 2), ('.', '', 2), ('Familiarity', '', 2), ('with', '', 2), ('Python', 'SKILL', 3), ('/', '', 2), ('C++', 'SKILL', 3), ('interfaces', '', 2), ('like', '', 2), ('Cython', 'SKILL', 3), ('is', '', 2), ('a', '', 2), ('plus', '', 2), ('.', '', 2), ('Explore', '', 2), ('new', '', 2), ('ML', 'SKILL', 3), ('research', '', 2), ('for', '', 2), ('improving', '', 2), ('the', '', 2), ('performance', '', 2), ('of', '', 2), ('algorithms', '', 2), ('.', '', 2), ('Good', '', 2), ('understanding', '', 2), ('of', '', 2), ('Linux', 'SKILL', 3), ('and', '', 2), ('cloud', 'SKILL', 3), ('CLI', 'SKILL', 1), ('(', '', 2), ('GCP', 'SKILL', 3), (',', '', 2), ('AWS', 'SKILL', 3), (',', '', 2), ('or', '', 2), ('Azure', 'SKILL', 3), (')', '', 2), ('.', '', 2), ('Knowledge', '', 2), ('about', '', 2), ('JIT', 'SKILL', 3), ('compilation', 'SKILL', 1), ('and', '', 2), ('computational', 'SKILL', 3), ('graph', 'SKILL', 1), ('serialization', '', 2), ('is', '', 2), ('a', '', 2), ('plus', '', 2), ('.', '', 2), ('Exposure', '', 2), ('to', '', 2), ('popular', '', 2), ('MLOps', 'SKILL', 3), ('frameworks', '', 2), ('like', '', 2), ('Kubeflow', 'SKILL', 3), (',', '', 2), ('Airflow', 'SKILL', 3), (',', '', 2), ('MLFlow', 'SKILL', 3), (',', '', 2), ('and', '', 2), ('DataRobot', 'SKILL', 3), ('is', '', 2), ('a', '', 2), ('plus', '', 2), ('.', '', 2)]\n",
      "Gojek  Experience building production ML pipelines for model training/prediction Experience working with large data sets, coming from varied sources Experience working with open source ML libraries such as Tensorflow, PyTorch and XGBoost Experience working with ML model training/deployment tools (such as Airflow, Kubeflow, Seldon) Familiarity with data engineering tools (Flink/Spark/Kafka etc) Experience with both object-oriented and functional programming concepts and languages****\n",
      "{'entities': [(0, 5, 'ORG'), (38, 50, 'SKILL'), (55, 69, 'SKILL'), (70, 80, 'SKILL'), (185, 187, 'SKILL'), (206, 216, 'SKILL'), (218, 225, 'SKILL'), (230, 237, 'SKILL'), (262, 264, 'SKILL'), (265, 279, 'SKILL'), (280, 290, 'SKILL'), (306, 313, 'SKILL'), (315, 323, 'SKILL'), (325, 331, 'SKILL'), (374, 379, 'SKILL'), (380, 385, 'SKILL'), (386, 391, 'SKILL'), (418, 433, 'SKILL'), (438, 460, 'SKILL')]}\n",
      "Entities [('Gojek', 'ORG'), ('ML pipelines', 'SKILL'), ('model training', 'SKILL'), ('prediction', 'SKILL'), ('ML', 'SKILL'), ('Tensorflow', 'SKILL'), ('PyTorch', 'SKILL'), ('XGBoost', 'SKILL'), ('ML', 'SKILL'), ('model training', 'SKILL'), ('deployment', 'SKILL'), ('Airflow', 'SKILL'), ('Kubeflow', 'SKILL'), ('Seldon', 'SKILL'), ('Flink', 'SKILL'), ('Spark', 'SKILL'), ('Kafka', 'SKILL'), ('object-oriented', 'SKILL'), ('functional programming', 'SKILL')]\n",
      "Tokens [('Gojek', 'ORG', 3), (' ', '', 2), ('Experience', '', 2), ('building', '', 2), ('production', '', 2), ('ML', 'SKILL', 3), ('pipelines', 'SKILL', 1), ('for', '', 2), ('model', 'SKILL', 3), ('training', 'SKILL', 1), ('/', '', 2), ('prediction', 'SKILL', 3), ('Experience', '', 2), ('working', '', 2), ('with', '', 2), ('large', '', 2), ('data', '', 2), ('sets', '', 2), (',', '', 2), ('coming', '', 2), ('from', '', 2), ('varied', '', 2), ('sources', '', 2), ('Experience', '', 2), ('working', '', 2), ('with', '', 2), ('open', '', 2), ('source', '', 2), ('ML', 'SKILL', 3), ('libraries', '', 2), ('such', '', 2), ('as', '', 2), ('Tensorflow', 'SKILL', 3), (',', '', 2), ('PyTorch', 'SKILL', 3), ('and', '', 2), ('XGBoost', 'SKILL', 3), ('Experience', '', 2), ('working', '', 2), ('with', '', 2), ('ML', 'SKILL', 3), ('model', 'SKILL', 3), ('training', 'SKILL', 1), ('/', '', 2), ('deployment', 'SKILL', 3), ('tools', '', 2), ('(', '', 2), ('such', '', 2), ('as', '', 2), ('Airflow', 'SKILL', 3), (',', '', 2), ('Kubeflow', 'SKILL', 3), (',', '', 2), ('Seldon', 'SKILL', 3), (')', '', 2), ('Familiarity', '', 2), ('with', '', 2), ('data', '', 2), ('engineering', '', 2), ('tools', '', 2), ('(', '', 2), ('Flink', 'SKILL', 3), ('/', '', 2), ('Spark', 'SKILL', 3), ('/', '', 2), ('Kafka', 'SKILL', 3), ('etc', '', 2), (')', '', 2), ('Experience', '', 2), ('with', '', 2), ('both', '', 2), ('object', 'SKILL', 3), ('-', 'SKILL', 1), ('oriented', 'SKILL', 1), ('and', '', 2), ('functional', 'SKILL', 3), ('programming', 'SKILL', 1), ('concepts', '', 2), ('and', '', 2), ('languages', '', 2)]\n",
      "Infosys  Define and drive projects in AI and Machine Learning. Identifies opportunities to leverage AI capabilities for efficiencies and cost reductions. Take end-to-end responsibility for model development, including data exploration, training data, feature extraction and model development, validation and scoring. Should have experience in Machine Learning, Artificial Intelligence, Deep Learning, Reinforcement Learning, statistical techniques to create scalable solutions for business problem.  Exposure to 1. Frameworks like Keras, TensorFlow, or Theano and sequence modeling. 2. Bot frame works across multiple vendors 3. Natural Language Processing, Computer Vision, Neural Networks, or related fields and a strong interest and desire to pursue them. Must have good communication skills with passion for automation and should be able to keep up with the innovations happening in AI, Machine Learning, Deep Learning, script based and Workflow automation.****\n",
      "{'entities': [(0, 7, 'ORG'), (38, 40, 'SKILL'), (45, 61, 'SKILL'), (100, 102, 'SKILL'), (189, 206, 'SKILL'), (218, 234, 'SKILL'), (236, 249, 'SKILL'), (251, 269, 'SKILL'), (274, 291, 'SKILL'), (293, 303, 'SKILL'), (308, 315, 'SKILL'), (343, 359, 'SKILL'), (891, 907, 'SKILL'), (909, 922, 'SKILL'), (531, 536, 'SKILL'), (538, 548, 'SKILL'), (553, 559, 'SKILL'), (564, 581, 'SKILL'), (586, 601, 'SKILL'), (629, 656, 'SKILL'), (658, 673, 'SKILL'), (675, 690, 'SKILL'), (812, 822, 'SKILL'), (887, 889, 'SKILL')]}\n",
      "Entities [('Infosys', 'ORG'), ('AI', 'SKILL'), ('Machine Learning', 'SKILL'), ('AI', 'SKILL'), ('model development', 'SKILL'), ('data exploration', 'SKILL'), ('training data', 'SKILL'), ('feature extraction', 'SKILL'), ('model development', 'SKILL'), ('validation', 'SKILL'), ('scoring', 'SKILL'), ('Machine Learning', 'SKILL'), ('Keras', 'SKILL'), ('TensorFlow', 'SKILL'), ('Theano', 'SKILL'), ('sequence modeling', 'SKILL'), ('Bot frame works', 'SKILL'), ('Natural Language Processing', 'SKILL'), ('Computer Vision', 'SKILL'), ('Neural Networks', 'SKILL'), ('automation', 'SKILL'), ('AI', 'SKILL'), ('Machine Learning', 'SKILL'), ('Deep Learning', 'SKILL')]\n",
      "Tokens [('Infosys', 'ORG', 3), (' ', '', 2), ('Define', '', 2), ('and', '', 2), ('drive', '', 2), ('projects', '', 2), ('in', '', 2), ('AI', 'SKILL', 3), ('and', '', 2), ('Machine', 'SKILL', 3), ('Learning', 'SKILL', 1), ('.', '', 2), ('Identifies', '', 2), ('opportunities', '', 2), ('to', '', 2), ('leverage', '', 2), ('AI', 'SKILL', 3), ('capabilities', '', 2), ('for', '', 2), ('efficiencies', '', 2), ('and', '', 2), ('cost', '', 2), ('reductions', '', 2), ('.', '', 2), ('Take', '', 2), ('end', '', 2), ('-', '', 2), ('to', '', 2), ('-', '', 2), ('end', '', 2), ('responsibility', '', 2), ('for', '', 2), ('model', 'SKILL', 3), ('development', 'SKILL', 1), (',', '', 2), ('including', '', 2), ('data', 'SKILL', 3), ('exploration', 'SKILL', 1), (',', '', 2), ('training', 'SKILL', 3), ('data', 'SKILL', 1), (',', '', 2), ('feature', 'SKILL', 3), ('extraction', 'SKILL', 1), ('and', '', 2), ('model', 'SKILL', 3), ('development', 'SKILL', 1), (',', '', 2), ('validation', 'SKILL', 3), ('and', '', 2), ('scoring', 'SKILL', 3), ('.', '', 2), ('Should', '', 2), ('have', '', 2), ('experience', '', 2), ('in', '', 2), ('Machine', 'SKILL', 3), ('Learning', 'SKILL', 1), (',', '', 2), ('Artificial', '', 2), ('Intelligence', '', 2), (',', '', 2), ('Deep', '', 2), ('Learning', '', 2), (',', '', 2), ('Reinforcement', '', 2), ('Learning', '', 2), (',', '', 2), ('statistical', '', 2), ('techniques', '', 2), ('to', '', 2), ('create', '', 2), ('scalable', '', 2), ('solutions', '', 2), ('for', '', 2), ('business', '', 2), ('problem', '', 2), ('.', '', 2), (' ', '', 2), ('Exposure', '', 2), ('to', '', 2), ('1', '', 2), ('.', '', 2), ('Frameworks', '', 2), ('like', '', 2), ('Keras', 'SKILL', 3), (',', '', 2), ('TensorFlow', 'SKILL', 3), (',', '', 2), ('or', '', 2), ('Theano', 'SKILL', 3), ('and', '', 2), ('sequence', 'SKILL', 3), ('modeling', 'SKILL', 1), ('.', '', 2), ('2', '', 2), ('.', '', 2), ('Bot', 'SKILL', 3), ('frame', 'SKILL', 1), ('works', 'SKILL', 1), ('across', '', 2), ('multiple', '', 2), ('vendors', '', 2), ('3', '', 2), ('.', '', 2), ('Natural', 'SKILL', 3), ('Language', 'SKILL', 1), ('Processing', 'SKILL', 1), (',', '', 2), ('Computer', 'SKILL', 3), ('Vision', 'SKILL', 1), (',', '', 2), ('Neural', 'SKILL', 3), ('Networks', 'SKILL', 1), (',', '', 2), ('or', '', 2), ('related', '', 2), ('fields', '', 2), ('and', '', 2), ('a', '', 2), ('strong', '', 2), ('interest', '', 2), ('and', '', 2), ('desire', '', 2), ('to', '', 2), ('pursue', '', 2), ('them', '', 2), ('.', '', 2), ('Must', '', 2), ('have', '', 2), ('good', '', 2), ('communication', '', 2), ('skills', '', 2), ('with', '', 2), ('passion', '', 2), ('for', '', 2), ('automation', 'SKILL', 3), ('and', '', 2), ('should', '', 2), ('be', '', 2), ('able', '', 2), ('to', '', 2), ('keep', '', 2), ('up', '', 2), ('with', '', 2), ('the', '', 2), ('innovations', '', 2), ('happening', '', 2), ('in', '', 2), ('AI', 'SKILL', 3), (',', '', 2), ('Machine', 'SKILL', 3), ('Learning', 'SKILL', 1), (',', '', 2), ('Deep', 'SKILL', 3), ('Learning', 'SKILL', 1), (',', '', 2), ('script', '', 2), ('based', '', 2), ('and', '', 2), ('Workflow', '', 2), ('automation', '', 2), ('.', '', 2)]\n",
      "Other  Intuitive understanding of the DL math, model behaviors, techniques already available in open world. TensorFlow, Python, Pandas, Numpy, DASH, Jupyter notebook, etc. Most importantly â€“ data aptitude.****\n",
      "{'entities': [(38, 40, 'SKILL'), (41, 45, 'SKILL'), (47, 62, 'SKILL'), (108, 118, 'SKILL'), (120, 126, 'SKILL'), (128, 134, 'SKILL'), (136, 141, 'SKILL'), (143, 147, 'SKILL'), (149, 165, 'SKILL'), (191, 204, 'SKILL')]}\n",
      "Entities [('DL', 'SKILL'), ('math', 'SKILL'), ('model behaviors', 'SKILL'), ('TensorFlow', 'SKILL'), ('Python', 'SKILL'), ('Pandas', 'SKILL'), ('Numpy', 'SKILL'), ('DASH', 'SKILL'), ('Jupyter notebook', 'SKILL'), ('“', 'SKILL')]\n",
      "Tokens [('Other', '', 2), (' ', '', 2), ('Intuitive', '', 2), ('understanding', '', 2), ('of', '', 2), ('the', '', 2), ('DL', 'SKILL', 3), ('math', 'SKILL', 3), (',', '', 2), ('model', 'SKILL', 3), ('behaviors', 'SKILL', 1), (',', '', 2), ('techniques', '', 2), ('already', '', 2), ('available', '', 2), ('in', '', 2), ('open', '', 2), ('world', '', 2), ('.', '', 2), ('TensorFlow', 'SKILL', 3), (',', '', 2), ('Python', 'SKILL', 3), (',', '', 2), ('Pandas', 'SKILL', 3), (',', '', 2), ('Numpy', 'SKILL', 3), (',', '', 2), ('DASH', 'SKILL', 3), (',', '', 2), ('Jupyter', 'SKILL', 3), ('notebook', 'SKILL', 1), (',', '', 2), ('etc', '', 2), ('.', '', 2), ('Most', '', 2), ('importantly', '', 2), ('â€', '', 2), ('“', 'SKILL', 3), ('data', '', 2), ('aptitude', '', 2), ('.', '', 2)]\n",
      "Ascent Technosystems 1. At least 2-6 years of experience as a Data Scientist in ML such as NLP, Machine vision, Time series, etc. Freshers certified in Machine Learning can also apply. 2. Strong expertise in Model Tuning, Model Validation, Supervised and Unsupervised Learning. 3. Hands on experience with model development, data preparation, training and inference ready deployment of models. 4. Well versed on descriptive and inferential statistics, hypothesis testing, etc. 5. Excellent at data analysis and exploration skills. Develops the code useful for reproducible analysis of data. 6. Good hands-on knowledge of AWS Sagemaker, Lambda, Glue, Step functions and EC2. 7. Knowledge of Databricks, Anaconda distribution and similar data science code development and deployment IDEs. 8. Well versed with ML algorithms related to time-series, natural language processing, optimization, object detection, topic modeling, clustering and regression analysis. 9. Strong expertise in Hive/Impala, Spark, Python Pandas, Keras, SKLearn, StatsModels, Tensorflow, PyTorch.****\n",
      "{'entities': [(0, 20, 'ORG'), (62, 76, 'SKILL'), (80, 82, 'SKILL'), (91, 94, 'SKILL'), (96, 110, 'SKILL'), (112, 123, 'SKILL'), (152, 168, 'SKILL'), (208, 220, 'SKILL'), (222, 238, 'SKILL'), (240, 250, 'SKILL'), (255, 276, 'SKILL'), (306, 323, 'SKILL'), (325, 341, 'SKILL'), (343, 351, 'SKILL'), (372, 392, 'SKILL'), (412, 423, 'SKILL'), (428, 450, 'SKILL'), (452, 470, 'SKILL'), (493, 506, 'SKILL'), (511, 529, 'SKILL'), (621, 634, 'SKILL'), (636, 642, 'SKILL'), (644, 648, 'SKILL'), (650, 664, 'SKILL'), (669, 672, 'SKILL'), (690, 700, 'SKILL'), (702, 710, 'SKILL'), (736, 748, 'SKILL'), (807, 809, 'SKILL'), (832, 843, 'SKILL'), (845, 872, 'SKILL'), (874, 886, 'SKILL'), (888, 904, 'SKILL'), (906, 920, 'SKILL'), (922, 932, 'SKILL'), (937, 956, 'SKILL'), (981, 985, 'SKILL'), (986, 992, 'SKILL'), (994, 999, 'SKILL'), (1001, 1007, 'SKILL'), (1008, 1014, 'SKILL'), (1016, 1021, 'SKILL'), (1023, 1030, 'SKILL'), (1032, 1043, 'SKILL'), (1045, 1055, 'SKILL'), (1057, 1064, 'SKILL')]}\n",
      "Entities [('Ascent Technosystems', 'ORG'), ('Data Scientist', 'SKILL'), ('ML', 'SKILL'), ('NLP', 'SKILL'), ('Machine vision', 'SKILL'), ('Time series', 'SKILL'), ('Machine Learning', 'SKILL'), ('Model Tuning', 'SKILL'), ('Model Validation', 'SKILL'), ('Supervised', 'SKILL'), ('Unsupervised Learning', 'SKILL'), ('model development', 'SKILL'), ('data preparation', 'SKILL'), ('training', 'SKILL'), ('deployment of models', 'SKILL'), ('descriptive', 'SKILL'), ('inferential statistics', 'SKILL'), ('hypothesis testing', 'SKILL'), ('data analysis', 'SKILL'), ('exploration skills', 'SKILL'), ('AWS Sagemaker', 'SKILL'), ('Lambda', 'SKILL'), ('Glue', 'SKILL'), ('Step functions', 'SKILL'), ('EC2', 'SKILL'), ('Databricks', 'SKILL'), ('Anaconda', 'SKILL'), ('data science', 'SKILL'), ('ML', 'SKILL'), ('time-series', 'SKILL'), ('natural language processing', 'SKILL'), ('optimization', 'SKILL'), ('object detection', 'SKILL'), ('topic modeling', 'SKILL'), ('clustering', 'SKILL'), ('regression analysis', 'SKILL'), ('Hive', 'SKILL'), ('Impala', 'SKILL'), ('Spark', 'SKILL'), ('Python', 'SKILL'), ('Pandas', 'SKILL'), ('Keras', 'SKILL'), ('SKLearn', 'SKILL'), ('StatsModels', 'SKILL'), ('Tensorflow', 'SKILL'), ('PyTorch', 'SKILL')]\n",
      "Tokens [('Ascent', 'ORG', 3), ('Technosystems', 'ORG', 1), ('1', '', 2), ('.', '', 2), ('At', '', 2), ('least', '', 2), ('2', '', 2), ('-', '', 2), ('6', '', 2), ('years', '', 2), ('of', '', 2), ('experience', '', 2), ('as', '', 2), ('a', '', 2), ('Data', 'SKILL', 3), ('Scientist', 'SKILL', 1), ('in', '', 2), ('ML', 'SKILL', 3), ('such', '', 2), ('as', '', 2), ('NLP', 'SKILL', 3), (',', '', 2), ('Machine', 'SKILL', 3), ('vision', 'SKILL', 1), (',', '', 2), ('Time', 'SKILL', 3), ('series', 'SKILL', 1), (',', '', 2), ('etc', '', 2), ('.', '', 2), ('Freshers', '', 2), ('certified', '', 2), ('in', '', 2), ('Machine', 'SKILL', 3), ('Learning', 'SKILL', 1), ('can', '', 2), ('also', '', 2), ('apply', '', 2), ('.', '', 2), ('2', '', 2), ('.', '', 2), ('Strong', '', 2), ('expertise', '', 2), ('in', '', 2), ('Model', 'SKILL', 3), ('Tuning', 'SKILL', 1), (',', '', 2), ('Model', 'SKILL', 3), ('Validation', 'SKILL', 1), (',', '', 2), ('Supervised', 'SKILL', 3), ('and', '', 2), ('Unsupervised', 'SKILL', 3), ('Learning', 'SKILL', 1), ('.', '', 2), ('3', '', 2), ('.', '', 2), ('Hands', '', 2), ('on', '', 2), ('experience', '', 2), ('with', '', 2), ('model', 'SKILL', 3), ('development', 'SKILL', 1), (',', '', 2), ('data', 'SKILL', 3), ('preparation', 'SKILL', 1), (',', '', 2), ('training', 'SKILL', 3), ('and', '', 2), ('inference', '', 2), ('ready', '', 2), ('deployment', 'SKILL', 3), ('of', 'SKILL', 1), ('models', 'SKILL', 1), ('.', '', 2), ('4', '', 2), ('.', '', 2), ('Well', '', 2), ('versed', '', 2), ('on', '', 2), ('descriptive', 'SKILL', 3), ('and', '', 2), ('inferential', 'SKILL', 3), ('statistics', 'SKILL', 1), (',', '', 2), ('hypothesis', 'SKILL', 3), ('testing', 'SKILL', 1), (',', '', 2), ('etc', '', 2), ('.', '', 2), ('5', '', 2), ('.', '', 2), ('Excellent', '', 2), ('at', '', 2), ('data', 'SKILL', 3), ('analysis', 'SKILL', 1), ('and', '', 2), ('exploration', 'SKILL', 3), ('skills', 'SKILL', 1), ('.', '', 2), ('Develops', '', 2), ('the', '', 2), ('code', '', 2), ('useful', '', 2), ('for', '', 2), ('reproducible', '', 2), ('analysis', '', 2), ('of', '', 2), ('data', '', 2), ('.', '', 2), ('6', '', 2), ('.', '', 2), ('Good', '', 2), ('hands', '', 2), ('-', '', 2), ('on', '', 2), ('knowledge', '', 2), ('of', '', 2), ('AWS', 'SKILL', 3), ('Sagemaker', 'SKILL', 1), (',', '', 2), ('Lambda', 'SKILL', 3), (',', '', 2), ('Glue', 'SKILL', 3), (',', '', 2), ('Step', 'SKILL', 3), ('functions', 'SKILL', 1), ('and', '', 2), ('EC2', 'SKILL', 3), ('.', '', 2), ('7', '', 2), ('.', '', 2), ('Knowledge', '', 2), ('of', '', 2), ('Databricks', 'SKILL', 3), (',', '', 2), ('Anaconda', 'SKILL', 3), ('distribution', '', 2), ('and', '', 2), ('similar', '', 2), ('data', 'SKILL', 3), ('science', 'SKILL', 1), ('code', '', 2), ('development', '', 2), ('and', '', 2), ('deployment', '', 2), ('IDEs', '', 2), ('.', '', 2), ('8', '', 2), ('.', '', 2), ('Well', '', 2), ('versed', '', 2), ('with', '', 2), ('ML', 'SKILL', 3), ('algorithms', '', 2), ('related', '', 2), ('to', '', 2), ('time', 'SKILL', 3), ('-', 'SKILL', 1), ('series', 'SKILL', 1), (',', '', 2), ('natural', 'SKILL', 3), ('language', 'SKILL', 1), ('processing', 'SKILL', 1), (',', '', 2), ('optimization', 'SKILL', 3), (',', '', 2), ('object', 'SKILL', 3), ('detection', 'SKILL', 1), (',', '', 2), ('topic', 'SKILL', 3), ('modeling', 'SKILL', 1), (',', '', 2), ('clustering', 'SKILL', 3), ('and', '', 2), ('regression', 'SKILL', 3), ('analysis', 'SKILL', 1), ('.', '', 2), ('9', '', 2), ('.', '', 2), ('Strong', '', 2), ('expertise', '', 2), ('in', '', 2), ('Hive', 'SKILL', 3), ('/', '', 2), ('Impala', 'SKILL', 3), (',', '', 2), ('Spark', 'SKILL', 3), (',', '', 2), ('Python', 'SKILL', 3), ('Pandas', 'SKILL', 3), (',', '', 2), ('Keras', 'SKILL', 3), (',', '', 2), ('SKLearn', 'SKILL', 3), (',', '', 2), ('StatsModels', 'SKILL', 3), (',', '', 2), ('Tensorflow', 'SKILL', 3), (',', '', 2), ('PyTorch', 'SKILL', 3), ('.', '', 2)]\n",
      "Intellexe  Software Professionals Work location - Bangalore Exp - 3 - 10 years AI and Machine Learning Engineer/Team Lead/Tech. Manager. Applying AI and machine learning techniques for image and video analysis for object detection Knowledge of neural network architectures experience on any one Deep-learning libraries, such as Tensorflow, keras and pyTorch understanding of nvidia deepstream sdk. expert in python programming should be knowing to create, test and implement AI models along with the handling of the AI infrastructure like USB, CSI and IP cameras basic understanding of edge devices like Jetson Nano and raspberry pi and comfort in building applications for this devices. basics of data streaming technologies like Amazon Kinesis and Apache Kafka Experience in data analytics computer vision****\n",
      "{'entities': [(79, 81, 'SKILL'), (86, 102, 'SKILL'), (146, 148, 'SKILL'), (153, 169, 'SKILL'), (185, 209, 'SKILL'), (214, 230, 'SKILL'), (244, 258, 'SKILL'), (295, 308, 'SKILL'), (328, 338, 'SKILL'), (340, 345, 'SKILL'), (350, 357, 'SKILL'), (375, 396, 'SKILL'), (408, 414, 'SKILL'), (475, 484, 'SKILL'), (516, 533, 'SKILL'), (539, 542, 'SKILL'), (544, 547, 'SKILL'), (552, 562, 'SKILL'), (604, 615, 'SKILL'), (620, 632, 'SKILL'), (731, 745, 'SKILL'), (750, 762, 'SKILL'), (777, 791, 'SKILL'), (792, 807, 'SKILL')]}\n",
      "Entities [('AI', 'SKILL'), ('Machine Learning', 'SKILL'), ('AI', 'SKILL'), ('machine learning', 'SKILL'), ('image and video analysis', 'SKILL'), ('object detection', 'SKILL'), ('neural network', 'SKILL'), ('Deep-learning', 'SKILL'), ('Tensorflow', 'SKILL'), ('keras', 'SKILL'), ('pyTorch', 'SKILL'), ('nvidia deepstream sdk', 'SKILL'), ('python', 'SKILL'), ('AI models', 'SKILL'), ('AI infrastructure', 'SKILL'), ('USB', 'SKILL'), ('CSI', 'SKILL'), ('IP cameras', 'SKILL'), ('Jetson Nano', 'SKILL'), ('raspberry pi', 'SKILL'), ('Amazon Kinesis', 'SKILL'), ('Apache Kafka', 'SKILL'), ('data analytics', 'SKILL'), ('computer vision', 'SKILL')]\n",
      "Tokens [('Intellexe', '', 2), (' ', '', 2), ('Software', '', 2), ('Professionals', '', 2), ('Work', '', 2), ('location', '', 2), ('-', '', 2), ('Bangalore', '', 2), ('Exp', '', 2), ('-', '', 2), ('3', '', 2), ('-', '', 2), ('10', '', 2), ('years', '', 2), ('AI', 'SKILL', 3), ('and', '', 2), ('Machine', 'SKILL', 3), ('Learning', 'SKILL', 1), ('Engineer', '', 2), ('/', '', 2), ('Team', '', 2), ('Lead', '', 2), ('/', '', 2), ('Tech', '', 2), ('.', '', 2), ('Manager', '', 2), ('.', '', 2), ('Applying', '', 2), ('AI', 'SKILL', 3), ('and', '', 2), ('machine', 'SKILL', 3), ('learning', 'SKILL', 1), ('techniques', '', 2), ('for', '', 2), ('image', 'SKILL', 3), ('and', 'SKILL', 1), ('video', 'SKILL', 1), ('analysis', 'SKILL', 1), ('for', '', 2), ('object', 'SKILL', 3), ('detection', 'SKILL', 1), ('Knowledge', '', 2), ('of', '', 2), ('neural', 'SKILL', 3), ('network', 'SKILL', 1), ('architectures', '', 2), ('experience', '', 2), ('on', '', 2), ('any', '', 2), ('one', '', 2), ('Deep', 'SKILL', 3), ('-', 'SKILL', 1), ('learning', 'SKILL', 1), ('libraries', '', 2), (',', '', 2), ('such', '', 2), ('as', '', 2), ('Tensorflow', 'SKILL', 3), (',', '', 2), ('keras', 'SKILL', 3), ('and', '', 2), ('pyTorch', 'SKILL', 3), ('understanding', '', 2), ('of', '', 2), ('nvidia', 'SKILL', 3), ('deepstream', 'SKILL', 1), ('sdk', 'SKILL', 1), ('.', '', 2), ('expert', '', 2), ('in', '', 2), ('python', 'SKILL', 3), ('programming', '', 2), ('should', '', 2), ('be', '', 2), ('knowing', '', 2), ('to', '', 2), ('create', '', 2), (',', '', 2), ('test', '', 2), ('and', '', 2), ('implement', '', 2), ('AI', 'SKILL', 3), ('models', 'SKILL', 1), ('along', '', 2), ('with', '', 2), ('the', '', 2), ('handling', '', 2), ('of', '', 2), ('the', '', 2), ('AI', 'SKILL', 3), ('infrastructure', 'SKILL', 1), ('like', '', 2), ('USB', 'SKILL', 3), (',', '', 2), ('CSI', 'SKILL', 3), ('and', '', 2), ('IP', 'SKILL', 3), ('cameras', 'SKILL', 1), ('basic', '', 2), ('understanding', '', 2), ('of', '', 2), ('edge', '', 2), ('devices', '', 2), ('like', '', 2), ('Jetson', 'SKILL', 3), ('Nano', 'SKILL', 1), ('and', '', 2), ('raspberry', 'SKILL', 3), ('pi', 'SKILL', 1), ('and', '', 2), ('comfort', '', 2), ('in', '', 2), ('building', '', 2), ('applications', '', 2), ('for', '', 2), ('this', '', 2), ('devices', '', 2), ('.', '', 2), ('basics', '', 2), ('of', '', 2), ('data', '', 2), ('streaming', '', 2), ('technologies', '', 2), ('like', '', 2), ('Amazon', 'SKILL', 3), ('Kinesis', 'SKILL', 1), ('and', '', 2), ('Apache', 'SKILL', 3), ('Kafka', 'SKILL', 1), ('Experience', '', 2), ('in', '', 2), ('data', 'SKILL', 3), ('analytics', 'SKILL', 1), ('computer', 'SKILL', 3), ('vision', 'SKILL', 1)]\n",
      "Pelican.ai  Sound knowledge of statistical concepts. At least one programming knowledge â€“ R/Python Sound knowledge of database concepts and SQL Writing Experience with pre-processing of data for machine learning Data Extraction, Transformation, and Loading Exploratory Data Analysis Machine Learning â€“ Supervised & Unsupervised Learning algorithms Advanced Machine Learning (Deep Learning) Machine Learning - NLP and Text Processing Exposure to Big Data Processing Frameworks Data Visualization****\n",
      "{'entities': [(0, 10, 'ORG'), (31, 51, 'SKILL'), (90, 91, 'SKILL'), (92, 98, 'SKILL'), (140, 143, 'SKILL'), (195, 211, 'SKILL'), (212, 227, 'SKILL'), (229, 243, 'SKILL'), (257, 282, 'SKILL'), (283, 299, 'SKILL'), (302, 312, 'SKILL'), (315, 336, 'SKILL'), (348, 373, 'SKILL'), (375, 388, 'SKILL'), (390, 406, 'SKILL'), (409, 412, 'SKILL'), (417, 432, 'SKILL'), (445, 464, 'SKILL'), (476, 494, 'SKILL')]}\n",
      "Entities [('Pelican.ai', 'ORG'), ('statistical concepts', 'SKILL'), ('“', 'SKILL'), ('R', 'SKILL'), ('Python', 'SKILL'), ('SQL', 'SKILL'), ('machine learning', 'SKILL'), ('Data Extraction', 'SKILL'), ('Transformation', 'SKILL'), ('Data Analysis', 'SKILL'), ('“', 'SKILL'), ('Supervised', 'SKILL'), ('Unsupervised Learning', 'SKILL'), ('Machine Learning', 'SKILL'), ('Deep Learning', 'SKILL'), ('Machine Learning', 'SKILL'), ('Big Data Processing', 'SKILL'), ('Data Visualization', 'SKILL')]\n",
      "Tokens [('Pelican.ai', 'ORG', 3), (' ', '', 2), ('Sound', '', 2), ('knowledge', '', 2), ('of', '', 2), ('statistical', 'SKILL', 3), ('concepts', 'SKILL', 1), ('.', '', 2), ('At', '', 2), ('least', '', 2), ('one', '', 2), ('programming', '', 2), ('knowledge', '', 2), ('â€', '', 2), ('“', 'SKILL', 3), ('R', 'SKILL', 3), ('/', '', 2), ('Python', 'SKILL', 3), ('Sound', '', 2), ('knowledge', '', 2), ('of', '', 2), ('database', '', 2), ('concepts', '', 2), ('and', '', 2), ('SQL', 'SKILL', 3), ('Writing', '', 2), ('Experience', '', 2), ('with', '', 2), ('pre', '', 2), ('-', '', 2), ('processing', '', 2), ('of', '', 2), ('data', '', 2), ('for', '', 2), ('machine', 'SKILL', 3), ('learning', 'SKILL', 1), ('Data', 'SKILL', 3), ('Extraction', 'SKILL', 1), (',', '', 2), ('Transformation', 'SKILL', 3), (',', '', 2), ('and', '', 2), ('Loading', '', 2), ('Exploratory', '', 2), ('Data', 'SKILL', 3), ('Analysis', 'SKILL', 1), ('Machine', '', 2), ('Learning', '', 2), ('â€', '', 2), ('“', 'SKILL', 3), ('Supervised', 'SKILL', 3), ('&', '', 2), ('Unsupervised', 'SKILL', 3), ('Learning', 'SKILL', 1), ('algorithms', '', 2), ('Advanced', '', 2), ('Machine', 'SKILL', 3), ('Learning', 'SKILL', 1), ('(', '', 2), ('Deep', 'SKILL', 3), ('Learning', 'SKILL', 1), (')', '', 2), ('Machine', 'SKILL', 3), ('Learning', 'SKILL', 1), ('-', '', 2), ('NLP', '', 2), ('and', '', 2), ('Text', '', 2), ('Processing', '', 2), ('Exposure', '', 2), ('to', '', 2), ('Big', 'SKILL', 3), ('Data', 'SKILL', 1), ('Processing', 'SKILL', 1), ('Frameworks', '', 2), ('Data', 'SKILL', 3), ('Visualization', 'SKILL', 1)]\n",
      "Other  AI - Hands-on experience in machine learning, deep learning computer vision models, learning and inferences Programming Language - Very good knowledge of Python, and, relevant tools and libraries (e.g. TensorFlow, NumPy, Scikit-learn, pandas). Coding - Ability to clean, high-quality, high-performance, maintainable code Optimization - Prefer knowledge of optimisation, multithreaded development, and cross-platform implementation Programming Environment - Prefer knowledge of code version tools like Git****\n",
      "{'entities': [(7, 9, 'SKILL'), (35, 51, 'SKILL'), (53, 66, 'SKILL'), (67, 82, 'SKILL'), (161, 167, 'SKILL'), (209, 219, 'SKILL'), (221, 226, 'SKILL'), (228, 240, 'SKILL'), (242, 248, 'SKILL'), (363, 375, 'SKILL'), (377, 402, 'SKILL'), (408, 422, 'SKILL'), (508, 511, 'SKILL')]}\n",
      "Entities [('AI', 'SKILL'), ('machine learning', 'SKILL'), ('deep learning', 'SKILL'), ('computer vision', 'SKILL'), ('Python', 'SKILL'), ('TensorFlow', 'SKILL'), ('NumPy', 'SKILL'), ('Scikit-learn', 'SKILL'), ('pandas', 'SKILL'), ('optimisation', 'SKILL'), ('multithreaded development', 'SKILL'), ('cross-platform', 'SKILL'), ('Git', 'SKILL')]\n",
      "Tokens [('Other', '', 2), (' ', '', 2), ('AI', 'SKILL', 3), ('-', '', 2), ('Hands', '', 2), ('-', '', 2), ('on', '', 2), ('experience', '', 2), ('in', '', 2), ('machine', 'SKILL', 3), ('learning', 'SKILL', 1), (',', '', 2), ('deep', 'SKILL', 3), ('learning', 'SKILL', 1), ('computer', 'SKILL', 3), ('vision', 'SKILL', 1), ('models', '', 2), (',', '', 2), ('learning', '', 2), ('and', '', 2), ('inferences', '', 2), ('Programming', '', 2), ('Language', '', 2), ('-', '', 2), ('Very', '', 2), ('good', '', 2), ('knowledge', '', 2), ('of', '', 2), ('Python', 'SKILL', 3), (',', '', 2), ('and', '', 2), (',', '', 2), ('relevant', '', 2), ('tools', '', 2), ('and', '', 2), ('libraries', '', 2), ('(', '', 2), ('e.g.', '', 2), ('TensorFlow', 'SKILL', 3), (',', '', 2), ('NumPy', 'SKILL', 3), (',', '', 2), ('Scikit', 'SKILL', 3), ('-', 'SKILL', 1), ('learn', 'SKILL', 1), (',', '', 2), ('pandas', 'SKILL', 3), (')', '', 2), ('.', '', 2), ('Coding', '', 2), ('-', '', 2), ('Ability', '', 2), ('to', '', 2), ('clean', '', 2), (',', '', 2), ('high', '', 2), ('-', '', 2), ('quality', '', 2), (',', '', 2), ('high', '', 2), ('-', '', 2), ('performance', '', 2), (',', '', 2), ('maintainable', '', 2), ('code', '', 2), ('Optimization', '', 2), ('-', '', 2), ('Prefer', '', 2), ('knowledge', '', 2), ('of', '', 2), ('optimisation', 'SKILL', 3), (',', '', 2), ('multithreaded', 'SKILL', 3), ('development', 'SKILL', 1), (',', '', 2), ('and', '', 2), ('cross', 'SKILL', 3), ('-', 'SKILL', 1), ('platform', 'SKILL', 1), ('implementation', '', 2), ('Programming', '', 2), ('Environment', '', 2), ('-', '', 2), ('Prefer', '', 2), ('knowledge', '', 2), ('of', '', 2), ('code', '', 2), ('version', '', 2), ('tools', '', 2), ('like', '', 2), ('Git', 'SKILL', 3)]\n",
      "Agoda  3+ years hands-on data science experience Excellent understanding of AI/ML/DL and Statistics, as well as coding proficiency using related open source libraries and frameworks Significant proficiency in SQL and languages like Python, PySpark and/or Scala Can lead, work independently as well as play a key role in a team Good communication and interpersonal skills for working in a multicultural work environment Experience in NLP, image processing and/or recommendation systems Hands on experience in data engineering, working with big data framework like Spark/Hadoop Experience in data science for e-commerce and/or OTA****\n",
      "{'entities': [(0, 5, 'ORG'), (25, 37, 'SKILL'), (76, 78, 'SKILL'), (79, 81, 'SKILL'), (82, 84, 'SKILL'), (89, 99, 'SKILL'), (112, 130, 'SKILL'), (209, 212, 'SKILL'), (232, 238, 'SKILL'), (240, 247, 'SKILL'), (255, 260, 'SKILL'), (433, 436, 'SKILL'), (438, 454, 'SKILL'), (462, 484, 'SKILL'), (508, 524, 'SKILL'), (539, 547, 'SKILL'), (563, 568, 'SKILL'), (569, 575, 'SKILL'), (590, 602, 'SKILL'), (625, 628, 'SKILL')]}\n",
      "Entities [('Agoda', 'ORG'), ('data science', 'SKILL'), ('AI', 'SKILL'), ('ML', 'SKILL'), ('DL', 'SKILL'), ('Statistics', 'SKILL'), ('coding proficiency', 'SKILL'), ('SQL', 'SKILL'), ('Python', 'SKILL'), ('PySpark', 'SKILL'), ('Scala', 'SKILL'), ('NLP', 'SKILL'), ('image processing', 'SKILL'), ('recommendation systems', 'SKILL'), ('data engineering', 'SKILL'), ('big data', 'SKILL'), ('Spark', 'SKILL'), ('Hadoop', 'SKILL'), ('data science', 'SKILL'), ('OTA', 'SKILL')]\n",
      "Tokens [('Agoda', 'ORG', 3), (' ', '', 2), ('3', '', 2), ('+', '', 2), ('years', '', 2), ('hands', '', 2), ('-', '', 2), ('on', '', 2), ('data', 'SKILL', 3), ('science', 'SKILL', 1), ('experience', '', 2), ('Excellent', '', 2), ('understanding', '', 2), ('of', '', 2), ('AI', 'SKILL', 3), ('/', '', 2), ('ML', 'SKILL', 3), ('/', '', 2), ('DL', 'SKILL', 3), ('and', '', 2), ('Statistics', 'SKILL', 3), (',', '', 2), ('as', '', 2), ('well', '', 2), ('as', '', 2), ('coding', 'SKILL', 3), ('proficiency', 'SKILL', 1), ('using', '', 2), ('related', '', 2), ('open', '', 2), ('source', '', 2), ('libraries', '', 2), ('and', '', 2), ('frameworks', '', 2), ('Significant', '', 2), ('proficiency', '', 2), ('in', '', 2), ('SQL', 'SKILL', 3), ('and', '', 2), ('languages', '', 2), ('like', '', 2), ('Python', 'SKILL', 3), (',', '', 2), ('PySpark', 'SKILL', 3), ('and/or', '', 2), ('Scala', 'SKILL', 3), ('Can', '', 2), ('lead', '', 2), (',', '', 2), ('work', '', 2), ('independently', '', 2), ('as', '', 2), ('well', '', 2), ('as', '', 2), ('play', '', 2), ('a', '', 2), ('key', '', 2), ('role', '', 2), ('in', '', 2), ('a', '', 2), ('team', '', 2), ('Good', '', 2), ('communication', '', 2), ('and', '', 2), ('interpersonal', '', 2), ('skills', '', 2), ('for', '', 2), ('working', '', 2), ('in', '', 2), ('a', '', 2), ('multicultural', '', 2), ('work', '', 2), ('environment', '', 2), ('Experience', '', 2), ('in', '', 2), ('NLP', 'SKILL', 3), (',', '', 2), ('image', 'SKILL', 3), ('processing', 'SKILL', 1), ('and/or', '', 2), ('recommendation', 'SKILL', 3), ('systems', 'SKILL', 1), ('Hands', '', 2), ('on', '', 2), ('experience', '', 2), ('in', '', 2), ('data', 'SKILL', 3), ('engineering', 'SKILL', 1), (',', '', 2), ('working', '', 2), ('with', '', 2), ('big', 'SKILL', 3), ('data', 'SKILL', 1), ('framework', '', 2), ('like', '', 2), ('Spark', 'SKILL', 3), ('/', '', 2), ('Hadoop', 'SKILL', 3), ('Experience', '', 2), ('in', '', 2), ('data', 'SKILL', 3), ('science', 'SKILL', 1), ('for', '', 2), ('e', '', 2), ('-', '', 2), ('commerce', '', 2), ('and/or', '', 2), ('OTA', 'SKILL', 3)]\n"
     ]
    }
   ],
   "source": [
    "for text, _ in TRAIN_DATA:\n",
    "    print(text, _, sep='****\\n')\n",
    "    doc = nlp(text)\n",
    "    print('Entities', [(ent.text, ent.label_) for ent in doc.ents])\n",
    "    print('Tokens', [(t.text, t.ent_type_, t.ent_iob) for t in doc])"
   ]
  },
  {
   "cell_type": "code",
   "execution_count": 8,
   "metadata": {},
   "outputs": [
    {
     "name": "stdout",
     "output_type": "stream",
     "text": [
      "Entities [('Bosch', 'ORG'), ('Python', 'SKILL'), ('pandas', 'SKILL'), ('sklearn', 'SKILL'), ('numpy', 'SKILL'), ('scipy', 'SKILL'), ('matplotlib', 'SKILL'), ('Spark MLlib', 'SKILL'), ('Spark', 'SKILL'), ('Hadoop', 'SKILL'), ('Kafka', 'SKILL'), ('Hive', 'SKILL'), ('SQL', 'SKILL'), ('machine learning', 'SKILL'), ('k-NN', 'SKILL'), ('Naive Bayes', 'SKILL'), ('SVM', 'SKILL'), ('Decision Forests', 'SKILL'), ('Python', 'SKILL'), ('GIT', 'SKILL'), ('Python', 'SKILL'), ('Web2Py', 'SKILL'), ('Django/', 'SKILL'), ('Flask', 'SKILL'), ('D3.js', 'SKILL'), ('GGplot', 'SKILL'), ('Selecting features', 'SKILL'), ('optimizing classifiers', 'SKILL'), ('machine learning', 'SKILL'), ('Data mining', 'SKILL'), ('detection systems', 'SKILL'), ('Model Deployments', 'SKILL')]\n"
     ]
    }
   ],
   "source": [
    "text = TRAIN_DATA[1][0]\n",
    "entities_list = TRAIN_DATA[1][1]\n",
    "doc = nlp(text)\n",
    "print('Entities', [(ent.text, ent.label_) for ent in doc.ents])"
   ]
  },
  {
   "cell_type": "markdown",
   "metadata": {},
   "source": [
    "### Save Model"
   ]
  },
  {
   "cell_type": "code",
   "execution_count": 17,
   "metadata": {},
   "outputs": [
    {
     "name": "stdout",
     "output_type": "stream",
     "text": [
      "Saved model to D:\\Nandeesh\\Practice\\GitHub Files\\practice-files\\Volunteered Projects\\JD Matcher\\saved_model\n"
     ]
    }
   ],
   "source": [
    "if output_dir is not None:\n",
    "    output_dir = Path(output_dir)\n",
    "    if not output_dir.exists():\n",
    "        output_dir.mkdir()\n",
    "    nlp.to_disk(output_dir)\n",
    "    print(\"Saved model to\", output_dir)"
   ]
  },
  {
   "cell_type": "markdown",
   "metadata": {},
   "source": [
    "### Test the saved model"
   ]
  },
  {
   "cell_type": "code",
   "execution_count": 18,
   "metadata": {},
   "outputs": [
    {
     "name": "stdout",
     "output_type": "stream",
     "text": [
      "Blacksmith Solution  Excellent Python (NumPy, pandas, scikit-learn, etc.) or R programming skills, familiar with open source libraries and tools for data science Track record of speedily and rigorously developing and deploying machine learning models to resolve industry problems Strong SQL skills Superior communication and data visualization skills Experience working in an agile development environment\n",
      "\n",
      "{'R programming', 'pandas', 'data visualization', 'SQL', 'NumPy', 'scikit-learn', 'machine learning', 'Python', 'data science'}\n"
     ]
    }
   ],
   "source": [
    "# print(\"Loading from\", output_dir)\n",
    "nlp2 = spacy.load(output_dir)\n",
    "text = TRAIN_DATA[1][0]\n",
    "entities_list = TRAIN_DATA[1][1]\n",
    "doc = nlp2(text)\n",
    "skills = {ent.text for ent in doc.ents if ent.label_ == 'SKILL'}\n",
    "print(text, skills, sep='\\n\\n')"
   ]
  },
  {
   "cell_type": "code",
   "execution_count": null,
   "metadata": {},
   "outputs": [],
   "source": []
  }
 ],
 "metadata": {
  "kernelspec": {
   "display_name": "Python 3",
   "language": "python",
   "name": "python3"
  },
  "language_info": {
   "codemirror_mode": {
    "name": "ipython",
    "version": 3
   },
   "file_extension": ".py",
   "mimetype": "text/x-python",
   "name": "python",
   "nbconvert_exporter": "python",
   "pygments_lexer": "ipython3",
   "version": "3.8.10"
  }
 },
 "nbformat": 4,
 "nbformat_minor": 4
}
